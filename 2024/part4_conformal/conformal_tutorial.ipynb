{
 "cells": [
  {
   "cell_type": "code",
   "execution_count": 1,
   "id": "a9782a90",
   "metadata": {},
   "outputs": [],
   "source": [
    "import numpy as np\n",
    "import random\n",
    "import matplotlib.pyplot as plt\n",
    "from tqdm import tqdm\n",
    "from sklearn.metrics import accuracy_score, roc_auc_score, confusion_matrix\n",
    "import pandas as pd"
   ]
  },
  {
   "cell_type": "code",
   "execution_count": 2,
   "id": "951e28c0",
   "metadata": {},
   "outputs": [],
   "source": [
    "from medmnist import DermaMNIST, RetinaMNIST, OCTMNIST"
   ]
  },
  {
   "cell_type": "code",
   "execution_count": 3,
   "id": "7863aa17",
   "metadata": {},
   "outputs": [],
   "source": [
    "import torch\n",
    "import torchvision.transforms as tr\n",
    "from torchvision.models import resnet18, ResNet18_Weights\n",
    "from torch.utils.data.dataset import Dataset\n",
    "from torch.utils.data import DataLoader"
   ]
  },
  {
   "cell_type": "code",
   "execution_count": 4,
   "id": "a5b21de5",
   "metadata": {},
   "outputs": [
    {
     "name": "stdout",
     "output_type": "stream",
     "text": [
      "using the GPU\n"
     ]
    }
   ],
   "source": [
    "if torch.cuda.is_available():\n",
    "    print('using the GPU')\n",
    "    device = 'cuda'\n",
    "else: \n",
    "    print('using the CPU')\n",
    "    device='cpu'"
   ]
  },
  {
   "cell_type": "code",
   "execution_count": 5,
   "id": "8e546066",
   "metadata": {},
   "outputs": [],
   "source": [
    "def set_seed(seed_value):\n",
    "    if seed_value is not None:\n",
    "        np.random.seed(seed_value)  # cpu vars\n",
    "        torch.manual_seed(seed_value)  # cpu  vars\n",
    "        random.seed(seed_value)  # Python\n",
    "        # torch.use_deterministic_algorithms(True)\n",
    "\n",
    "        if torch.cuda.is_available():\n",
    "            torch.cuda.manual_seed(seed_value)\n",
    "            torch.cuda.manual_seed_all(seed_value)\n",
    "            torch.backends.cudnn.deterministic = True\n",
    "set_seed(0)"
   ]
  },
  {
   "cell_type": "markdown",
   "id": "dfbe88bf",
   "metadata": {},
   "source": [
    "### Data\n",
    "In this hands-on session we will be playing with `medMNIST`, a collection of datasets similar to MNIST but with medical images. For training, we will be using OCT images from the `OCT` subdataset in `medMNIST`."
   ]
  },
  {
   "cell_type": "code",
   "execution_count": 6,
   "id": "0bf6cb36",
   "metadata": {},
   "outputs": [],
   "source": [
    "dataset = 'OCT'"
   ]
  },
  {
   "cell_type": "code",
   "execution_count": 7,
   "id": "4610e1bc",
   "metadata": {},
   "outputs": [
    {
     "name": "stdout",
     "output_type": "stream",
     "text": [
      "Using downloaded and verified file: /home/u109509/.medmnist/octmnist.npz\n",
      "Using downloaded and verified file: /home/u109509/.medmnist/octmnist.npz\n",
      "Using downloaded and verified file: /home/u109509/.medmnist/octmnist.npz\n"
     ]
    }
   ],
   "source": [
    "# preprocessing - to-tensor and normalize using imagenet stats\n",
    "transforms = tr.Compose([tr.ToTensor(), tr.Normalize(mean=[0.485, 0.456, 0.406], std=[0.229, 0.224, 0.225])])\n",
    "\n",
    "# datasets\n",
    "if dataset == 'DERMA':\n",
    "    train_dataset = DermaMNIST(split='train', transform=transforms, download=True)\n",
    "    val_dataset   = DermaMNIST(split='val', transform=transforms, download=True)\n",
    "    test_dataset  = DermaMNIST(split='test', transform=transforms, download=True)\n",
    "elif dataset == 'RETINA':\n",
    "    train_dataset = RetinaMNIST(split='train', transform=transforms, download=True)\n",
    "    val_dataset   = RetinaMNIST(split='val', transform=transforms, download=True)\n",
    "    test_dataset  = RetinaMNIST(split='test', transform=transforms, download=True)\n",
    "elif dataset == 'OCT':\n",
    "    train_dataset = OCTMNIST(split='train', transform=transforms, download=True, as_rgb=True)\n",
    "    val_dataset   = OCTMNIST(split='val', transform=transforms, download=True, as_rgb=True)\n",
    "    test_dataset  = OCTMNIST(split='test', transform=transforms, download=True, as_rgb=True)\n",
    "else:\n",
    "    print('please choose between dataset=\\'DERMA\\', dataset=\\'RETINA\\' or dataset=\\'OCT\\'')\n",
    "\n",
    "# dataloaders\n",
    "train_loader = DataLoader(dataset=train_dataset, batch_size=128, shuffle=True)\n",
    "val_loader   = DataLoader(dataset=val_dataset,   batch_size=256, shuffle=False)\n",
    "test_loader  = DataLoader(dataset=test_dataset,  batch_size=256, shuffle=False)"
   ]
  },
  {
   "cell_type": "code",
   "execution_count": 8,
   "id": "83dfbe41",
   "metadata": {},
   "outputs": [
    {
     "data": {
      "text/plain": [
       "(97477, 10832, 1000)"
      ]
     },
     "execution_count": 8,
     "metadata": {},
     "output_type": "execute_result"
    }
   ],
   "source": [
    "len(train_dataset), len(val_dataset), len(test_dataset)"
   ]
  },
  {
   "cell_type": "markdown",
   "id": "310b3693",
   "metadata": {},
   "source": [
    "Let us have a look at the data, it cannot hurt."
   ]
  },
  {
   "cell_type": "code",
   "execution_count": 9,
   "id": "3d81174e",
   "metadata": {},
   "outputs": [
    {
     "data": {
      "text/plain": [
       "(array([0, 1, 2, 3], dtype=uint8), array([33484, 10213,  7754, 46026]))"
      ]
     },
     "execution_count": 9,
     "metadata": {},
     "output_type": "execute_result"
    }
   ],
   "source": [
    "np.unique(train_dataset.labels, return_counts=True)"
   ]
  },
  {
   "cell_type": "code",
   "execution_count": 10,
   "id": "2c95528c",
   "metadata": {},
   "outputs": [],
   "source": [
    "n_classes = len(np.unique(train_dataset.labels))\n",
    "\n",
    "n_epochs, lr = 20, 1e-4 # 20 is enough for this dataset, I can see the future"
   ]
  },
  {
   "cell_type": "code",
   "execution_count": 11,
   "id": "cfdd62c8",
   "metadata": {},
   "outputs": [
    {
     "data": {
      "image/jpeg": "[encoded data removed]",
      "image/png": "[encoded data removed]",
      "text/plain": [
       "<PIL.Image.Image image mode=L size=448x448>"
      ]
     },
     "execution_count": 11,
     "metadata": {},
     "output_type": "execute_result"
    }
   ],
   "source": [
    "train_dataset.montage(length=16)"
   ]
  },
  {
   "cell_type": "markdown",
   "id": "15c14e40",
   "metadata": {},
   "source": [
    "### Model Training\n",
    "The next cell defines a standard training loop in pytorch:"
   ]
  },
  {
   "cell_type": "code",
   "execution_count": 12,
   "id": "086ed678",
   "metadata": {},
   "outputs": [],
   "source": [
    "def run_one_epoch(loader, model, criterion, optimizer=None):\n",
    "\n",
    "    device='cuda' if next(model.parameters()).is_cuda else 'cpu'\n",
    "    train = optimizer is not None  # if we are in training mode, there will be an optimizer and train=True here\n",
    "\n",
    "    if train: model.train()\n",
    "    else: model.eval()\n",
    "    probs_all, preds_all, labels_all = [], [], []\n",
    "    \n",
    "    for inputs, labels in loader:\n",
    "        inputs, labels = inputs.to(device), labels.squeeze().to(device)\n",
    "        logits = model(inputs)\n",
    "        loss = criterion(logits, labels)\n",
    "\n",
    "        if train:  # only in training mode\n",
    "            loss.backward()\n",
    "            optimizer.step()\n",
    "\n",
    "        probs = logits.softmax(dim=1).detach().cpu().numpy()\n",
    "        preds = np.argmax(probs, axis=1)\n",
    "        labels = labels.cpu().numpy()\n",
    "\n",
    "        probs_all.extend(probs)\n",
    "        preds_all.extend(preds)\n",
    "        labels_all.extend(labels)\n",
    "            \n",
    "    return np.stack(preds_all), np.stack(probs_all), np.stack(labels_all)"
   ]
  },
  {
   "cell_type": "markdown",
   "id": "0668e12e",
   "metadata": {},
   "source": [
    "As usual, we will be needing a model, an optimizer, and a criterion. Let us now train a `resnet18` to classify this dataset:"
   ]
  },
  {
   "cell_type": "code",
   "execution_count": 13,
   "id": "3584ba35",
   "metadata": {},
   "outputs": [],
   "source": [
    "model = resnet18(weights=ResNet18_Weights.IMAGENET1K_V1)\n",
    "num_ftrs = model.fc.in_features\n",
    "model.fc = torch.nn.Linear(num_ftrs, out_features=n_classes)\n",
    "model.to(device);\n",
    "\n",
    "optimizer = torch.optim.SGD(model.parameters(), lr=lr)\n",
    "criterion = torch.nn.CrossEntropyLoss()"
   ]
  },
  {
   "cell_type": "markdown",
   "id": "2cf7a3e3-5320-4e38-81c9-31fdc20770ff",
   "metadata": {},
   "source": [
    "Now, either you train a model below (<10 minutes on a small laptop gpu) or you load weights I already trained myself, and save some time."
   ]
  },
  {
   "cell_type": "markdown",
   "id": "80b7609e-7328-43cb-b928-1a1e78b6e909",
   "metadata": {},
   "source": [
    "#### If you want to load the model weights:"
   ]
  },
  {
   "cell_type": "code",
   "execution_count": 14,
   "id": "1cd85e57-5b2d-4505-94f0-8198f1af5b8f",
   "metadata": {},
   "outputs": [],
   "source": [
    "model.load_state_dict(torch.load('r18_oct_weights.pth'));"
   ]
  },
  {
   "cell_type": "markdown",
   "id": "a56bd8b5",
   "metadata": {},
   "source": [
    "#### If you want to train the model:\n",
    "Let us train `model` and then analyze predictions. We monitor AUC on the training and the validation set to detect overfitting."
   ]
  },
  {
   "cell_type": "code",
   "execution_count": 16,
   "id": "1329b30c",
   "metadata": {},
   "outputs": [
    {
     "name": "stderr",
     "output_type": "stream",
     "text": [
      "  5%|██▏                                         | 1/20 [00:24<07:45, 24.48s/it]"
     ]
    },
    {
     "name": "stdout",
     "output_type": "stream",
     "text": [
      "Epoch 1, TR/VL AUC=91.35/91.33\n"
     ]
    },
    {
     "name": "stderr",
     "output_type": "stream",
     "text": [
      " 10%|████▍                                       | 2/20 [00:45<06:46, 22.57s/it]"
     ]
    },
    {
     "name": "stdout",
     "output_type": "stream",
     "text": [
      "Epoch 2, TR/VL AUC=92.86/92.80\n"
     ]
    },
    {
     "name": "stderr",
     "output_type": "stream",
     "text": [
      " 15%|██████▌                                     | 3/20 [01:07<06:13, 22.00s/it]"
     ]
    },
    {
     "name": "stdout",
     "output_type": "stream",
     "text": [
      "Epoch 3, TR/VL AUC=93.29/93.09\n"
     ]
    },
    {
     "name": "stderr",
     "output_type": "stream",
     "text": [
      " 20%|████████▊                                   | 4/20 [01:28<05:47, 21.71s/it]"
     ]
    },
    {
     "name": "stdout",
     "output_type": "stream",
     "text": [
      "Epoch 4, TR/VL AUC=94.00/93.94\n"
     ]
    },
    {
     "name": "stderr",
     "output_type": "stream",
     "text": [
      " 25%|███████████                                 | 5/20 [01:49<05:22, 21.51s/it]"
     ]
    },
    {
     "name": "stdout",
     "output_type": "stream",
     "text": [
      "Epoch 5, TR/VL AUC=94.45/94.13\n"
     ]
    },
    {
     "name": "stderr",
     "output_type": "stream",
     "text": [
      " 30%|█████████████▏                              | 6/20 [02:10<05:00, 21.46s/it]"
     ]
    },
    {
     "name": "stdout",
     "output_type": "stream",
     "text": [
      "Epoch 6, TR/VL AUC=94.67/94.37\n"
     ]
    },
    {
     "name": "stderr",
     "output_type": "stream",
     "text": [
      " 35%|███████████████▍                            | 7/20 [02:32<04:38, 21.39s/it]"
     ]
    },
    {
     "name": "stdout",
     "output_type": "stream",
     "text": [
      "Epoch 7, TR/VL AUC=94.71/94.45\n"
     ]
    },
    {
     "name": "stderr",
     "output_type": "stream",
     "text": [
      " 40%|█████████████████▌                          | 8/20 [02:53<04:16, 21.35s/it]"
     ]
    },
    {
     "name": "stdout",
     "output_type": "stream",
     "text": [
      "Epoch 8, TR/VL AUC=94.37/94.13\n"
     ]
    },
    {
     "name": "stderr",
     "output_type": "stream",
     "text": [
      " 45%|███████████████████▊                        | 9/20 [03:14<03:54, 21.36s/it]"
     ]
    },
    {
     "name": "stdout",
     "output_type": "stream",
     "text": [
      "Epoch 9, TR/VL AUC=93.30/93.12\n"
     ]
    },
    {
     "name": "stderr",
     "output_type": "stream",
     "text": [
      " 50%|█████████████████████▌                     | 10/20 [03:36<03:33, 21.36s/it]"
     ]
    },
    {
     "name": "stdout",
     "output_type": "stream",
     "text": [
      "Epoch 10, TR/VL AUC=95.24/94.95\n"
     ]
    },
    {
     "name": "stderr",
     "output_type": "stream",
     "text": [
      " 55%|███████████████████████▋                   | 11/20 [03:57<03:11, 21.33s/it]"
     ]
    },
    {
     "name": "stdout",
     "output_type": "stream",
     "text": [
      "Epoch 11, TR/VL AUC=95.37/95.03\n"
     ]
    },
    {
     "name": "stderr",
     "output_type": "stream",
     "text": [
      " 60%|█████████████████████████▊                 | 12/20 [04:19<02:51, 21.45s/it]"
     ]
    },
    {
     "name": "stdout",
     "output_type": "stream",
     "text": [
      "Epoch 12, TR/VL AUC=95.20/94.83\n"
     ]
    },
    {
     "name": "stderr",
     "output_type": "stream",
     "text": [
      " 65%|███████████████████████████▉               | 13/20 [04:40<02:29, 21.42s/it]"
     ]
    },
    {
     "name": "stdout",
     "output_type": "stream",
     "text": [
      "Epoch 13, TR/VL AUC=95.58/95.20\n"
     ]
    },
    {
     "name": "stderr",
     "output_type": "stream",
     "text": [
      " 70%|██████████████████████████████             | 14/20 [05:01<02:08, 21.43s/it]"
     ]
    },
    {
     "name": "stdout",
     "output_type": "stream",
     "text": [
      "Epoch 14, TR/VL AUC=95.75/95.31\n"
     ]
    },
    {
     "name": "stderr",
     "output_type": "stream",
     "text": [
      " 75%|████████████████████████████████▎          | 15/20 [05:23<01:47, 21.46s/it]"
     ]
    },
    {
     "name": "stdout",
     "output_type": "stream",
     "text": [
      "Epoch 15, TR/VL AUC=95.73/95.31\n"
     ]
    },
    {
     "name": "stderr",
     "output_type": "stream",
     "text": [
      " 80%|██████████████████████████████████▍        | 16/20 [05:44<01:25, 21.48s/it]"
     ]
    },
    {
     "name": "stdout",
     "output_type": "stream",
     "text": [
      "Epoch 16, TR/VL AUC=95.78/95.31\n"
     ]
    },
    {
     "name": "stderr",
     "output_type": "stream",
     "text": [
      " 85%|████████████████████████████████████▌      | 17/20 [06:06<01:04, 21.52s/it]"
     ]
    },
    {
     "name": "stdout",
     "output_type": "stream",
     "text": [
      "Epoch 17, TR/VL AUC=95.98/95.43\n"
     ]
    },
    {
     "name": "stderr",
     "output_type": "stream",
     "text": [
      " 90%|██████████████████████████████████████▋    | 18/20 [06:28<00:43, 21.54s/it]"
     ]
    },
    {
     "name": "stdout",
     "output_type": "stream",
     "text": [
      "Epoch 18, TR/VL AUC=96.09/95.55\n"
     ]
    },
    {
     "name": "stderr",
     "output_type": "stream",
     "text": [
      " 95%|████████████████████████████████████████▊  | 19/20 [06:49<00:21, 21.57s/it]"
     ]
    },
    {
     "name": "stdout",
     "output_type": "stream",
     "text": [
      "Epoch 19, TR/VL AUC=96.16/95.66\n"
     ]
    },
    {
     "name": "stderr",
     "output_type": "stream",
     "text": [
      "100%|███████████████████████████████████████████| 20/20 [07:11<00:00, 21.57s/it]"
     ]
    },
    {
     "name": "stdout",
     "output_type": "stream",
     "text": [
      "Epoch 20, TR/VL AUC=96.11/95.71\n"
     ]
    },
    {
     "name": "stderr",
     "output_type": "stream",
     "text": [
      "\n"
     ]
    }
   ],
   "source": [
    "for epoch in tqdm(range(n_epochs)):\n",
    "    _,  _, _ = run_one_epoch(train_loader, model, criterion, optimizer)\n",
    "    with torch.inference_mode():\n",
    "        tr_preds, tr_probs, tr_labels = run_one_epoch(train_loader, model, criterion)\n",
    "        vl_preds, vl_probs, vl_labels = run_one_epoch(val_loader, model, criterion)\n",
    "\n",
    "        tr_auc = roc_auc_score(tr_labels, tr_probs, multi_class='ovr')\n",
    "        vl_auc = roc_auc_score(vl_labels, vl_probs, multi_class='ovr')\n",
    "        print('Epoch {}, TR/VL AUC={:.2f}/{:.2f}'.format(epoch+1, 100*tr_auc, 100*vl_auc))\n",
    "torch.save(model.state_dict(), 'r18_oct_weights.pth');"
   ]
  },
  {
   "cell_type": "markdown",
   "id": "fa8bca3c-f94f-4efa-a836-b538931ecd2c",
   "metadata": {},
   "source": [
    "### Move on"
   ]
  },
  {
   "cell_type": "code",
   "execution_count": 15,
   "id": "ccb1db68",
   "metadata": {},
   "outputs": [],
   "source": [
    "y_pred_test, y_probs_test, y_test = run_one_epoch(test_loader, model, criterion)"
   ]
  },
  {
   "cell_type": "code",
   "execution_count": 16,
   "id": "8524abd6",
   "metadata": {},
   "outputs": [
    {
     "data": {
      "text/plain": [
       "{'0': 'choroidal neovascularization',\n",
       " '1': 'diabetic macular edema',\n",
       " '2': 'drusen',\n",
       " '3': 'normal'}"
      ]
     },
     "execution_count": 16,
     "metadata": {},
     "output_type": "execute_result"
    }
   ],
   "source": [
    "train_dataset.info['label']"
   ]
  },
  {
   "cell_type": "code",
   "execution_count": 17,
   "id": "2bb1e6b2",
   "metadata": {},
   "outputs": [
    {
     "data": {
      "text/plain": [
       "['chor.', 'diab.', 'drus.', 'norm.']"
      ]
     },
     "execution_count": 17,
     "metadata": {},
     "output_type": "execute_result"
    }
   ],
   "source": [
    "classes = [train_dataset.info['label'][str(c)][:4]+'.' for c in range(n_classes)]\n",
    "classes"
   ]
  },
  {
   "cell_type": "code",
   "execution_count": 18,
   "id": "ea950711",
   "metadata": {},
   "outputs": [
    {
     "name": "stdout",
     "output_type": "stream",
     "text": [
      "Accuracy: 69.30%\n",
      "       chor.  diab.  drus.  norm.\n",
      "chor.    236     13      0      1\n",
      "diab.     38    200      2     10\n",
      "drus.    122      9     28     91\n",
      "norm.      6     11      4    229\n"
     ]
    }
   ],
   "source": [
    "print(\"Accuracy: {:.2f}%\".format(100*(y_pred_test == y_test).mean()))\n",
    "# Create the confusion matrix\n",
    "cm = confusion_matrix(y_test, y_pred_test)\n",
    "print(pd.DataFrame(cm, index=classes, columns=classes))"
   ]
  },
  {
   "cell_type": "markdown",
   "id": "c2020f10",
   "metadata": {},
   "source": [
    "In this confusion matrix, rows indicate the true classes and columns the predicted classes. For example, 9 drusen-affected images were wrongly classified as diabetic macular edema."
   ]
  },
  {
   "cell_type": "markdown",
   "id": "fdc4f75d",
   "metadata": {},
   "source": [
    "The classes seem to have different classification diﬀiculties, for example drusen images are very often classified incorrectly as choroidal neovascularization or normal."
   ]
  },
  {
   "cell_type": "code",
   "execution_count": 19,
   "id": "926c47ac-8914-4da6-a5fc-4d6e94b5ae4b",
   "metadata": {},
   "outputs": [
    {
     "name": "stdout",
     "output_type": "stream",
     "text": [
      "Class chor., acc = 82.00%\n",
      "Class diab., acc = 91.70%\n",
      "Class drus., acc = 77.20%\n",
      "Class norm., acc = 87.70%\n"
     ]
    }
   ],
   "source": [
    "# https://stackoverflow.com/a/65673016\n",
    "accuracies = {name: 100*accuracy_score(np.array(y_test) == i, np.array(y_pred_test) == i) for i, name in enumerate(classes)}\n",
    "for (key, acc) in accuracies.items():\n",
    "    print('Class {}, acc = {:.2f}%'.format(key, acc))"
   ]
  },
  {
   "cell_type": "markdown",
   "id": "1999f757",
   "metadata": {},
   "source": [
    "Not the best model. How can we deal with uncertainty in this case? Imagine we relax our requirements, and we are allowed to return more than one category, so we will return **Prediction Sets**. \n",
    "\n",
    "In exchange of this relaxation, we acquire the compromise of returning, for example, 95% of the times the correct category among the classes we return. This is called **Coverage**.\n",
    "\n",
    "First thing we will try is to leverage the predicted probability score. **If the model is calibrated**, then an item predicted with 95% confidence should be 95% of the times correctly predicted. Therefore, we will do as follows: if a category is predicted with 95% confidence or more, then we will return it, otherwise not. "
   ]
  },
  {
   "cell_type": "markdown",
   "id": "c1d6d9d0",
   "metadata": {},
   "source": [
    "* You may ask: what do we do with images that have no category predicted with 95% confidence? We will see later.\n",
    "\n",
    "* You may also ask: if we are requiring 95% confidence, there might only be 0 or 1 categories in our set of returned predictions. That is correct, but if we were asking for 40% confidence, then we could also have 2 categories, etc."
   ]
  },
  {
   "cell_type": "code",
   "execution_count": 20,
   "id": "53b81ac1",
   "metadata": {},
   "outputs": [],
   "source": [
    "# Get for each instance the highest probability (confidence)\n",
    "confidences = np.amax(y_probs_test, axis=1)\n",
    "\n",
    "# Select the predictions where probability over 95%\n",
    "p = 0.95\n",
    "confident_predictions = np.where(confidences >= p)[0]"
   ]
  },
  {
   "cell_type": "markdown",
   "id": "08bec65d",
   "metadata": {},
   "source": [
    "The fraction of examples for which we are not abstaining is called coverage:"
   ]
  },
  {
   "cell_type": "code",
   "execution_count": 21,
   "id": "daf534db",
   "metadata": {},
   "outputs": [
    {
     "name": "stdout",
     "output_type": "stream",
     "text": [
      "Coverage @ >0.95 = 44.50%\n"
     ]
    }
   ],
   "source": [
    "we_will_return = len(confident_predictions)\n",
    "total = len(y_probs_test)\n",
    "coverage = 100*we_will_return/total\n",
    "print('Coverage @ >{:.2f} = {:.2f}%'.format(p, coverage))"
   ]
  },
  {
   "cell_type": "markdown",
   "id": "79a67885",
   "metadata": {},
   "source": [
    "So out of 1000 predictions, we are keeping 445. Now we hope that within that subset, we will have 95% accuracy."
   ]
  },
  {
   "cell_type": "code",
   "execution_count": 22,
   "id": "71f87a12",
   "metadata": {},
   "outputs": [
    {
     "name": "stdout",
     "output_type": "stream",
     "text": [
      "Accuracy @ >0.95 = 92.81\n"
     ]
    }
   ],
   "source": [
    "a = (y_pred_test[confident_predictions]==y_test[confident_predictions]).mean()\n",
    "print('Accuracy @ >{:.2f} = {:.2f}'.format(p, 100*a))"
   ]
  },
  {
   "cell_type": "markdown",
   "id": "8de9aa03",
   "metadata": {},
   "source": [
    "Not far from 95%, which means the model was relatively well calibrated.\n",
    "\n",
    "Note that, as we reduce our confidence threshold, we increase coverage, but we most likely will sacrifice accuracy:"
   ]
  },
  {
   "cell_type": "code",
   "execution_count": 23,
   "id": "dcd1a82d",
   "metadata": {},
   "outputs": [
    {
     "name": "stdout",
     "output_type": "stream",
     "text": [
      "Coverage @ >0.40 = 98.00%\n",
      "Accuracy @ >0.40 = 70.31\n"
     ]
    }
   ],
   "source": [
    "# Select the predictions where probability over 40%\n",
    "p = 0.40\n",
    "confident_predictions = np.where(confidences >= p)[0]\n",
    "we_will_return = len(confident_predictions)\n",
    "total = len(y_probs_test)\n",
    "coverage = 100*we_will_return/total\n",
    "\n",
    "a = (y_pred_test[confident_predictions]==y_test[confident_predictions]).mean()\n",
    "\n",
    "print('Coverage @ >{:.2f} = {:.2f}%'.format(p, coverage))\n",
    "print('Accuracy @ >{:.2f} = {:.2f}'.format(p, 100*a))"
   ]
  },
  {
   "cell_type": "markdown",
   "id": "a2452822",
   "metadata": {},
   "source": [
    "So this is the thing: as we increase coverage we include less confident predictions, which tend to be more erroneous (unless the model is completely miscalibrated). In fact, if the model was perfectly calibrated, coverage and accuracy would be absolutely aligned for all levels of confidence. But since most models are often not calibrated, we need another approach here."
   ]
  },
  {
   "cell_type": "markdown",
   "id": "28469310",
   "metadata": {},
   "source": [
    "Instead of asking ourselves what can we do to guarantee a coverage of 95%, looks like we need to lower our confidence threshold until we reach a desired level of coverage. But if we lower the threshold, more categories might slip into our predictions, right? Instead of becoming frustrated, we will embrace that fact!"
   ]
  },
  {
   "cell_type": "markdown",
   "id": "58c53ef4-dfcd-4600-8c15-93231fa7a141",
   "metadata": {},
   "source": [
    "### Conformal Prediction in action:\n",
    "We will work with a calibration set extracted from test data to find a threshold that guarantees 95% coverage."
   ]
  },
  {
   "cell_type": "code",
   "execution_count": 24,
   "id": "f3197a91-085f-4a18-b2ad-4230f2093752",
   "metadata": {},
   "outputs": [
    {
     "name": "stdout",
     "output_type": "stream",
     "text": [
      "(1000,) (1000, 4) (1000,)\n",
      "(500,) (500, 4) (500,)\n"
     ]
    }
   ],
   "source": [
    "print(y_pred_test.shape, y_probs_test.shape, y_test.shape)\n",
    "y_pred_calib, y_pred_test = y_pred_test[:500], y_pred_test[500:]\n",
    "y_probs_calib, y_probs_test = y_probs_test[:500,], y_probs_test[500:,]\n",
    "y_calib, y_test = y_test[:500], y_test[500:]\n",
    "print(y_pred_test.shape, y_probs_test.shape, y_test.shape)"
   ]
  },
  {
   "cell_type": "code",
   "execution_count": 25,
   "id": "889ae341-99b6-4688-8f1e-dd93eaa781d5",
   "metadata": {},
   "outputs": [],
   "source": [
    "# Size of calibration data\n",
    "n = len(y_calib)\n",
    "# We only need the probability for the true class\n",
    "prob_true_class_calib = y_probs_calib[np.arange(n),y_calib]\n",
    "# Turn into uncertainty score (larger means more uncertain)\n",
    "scores_calib = 1 - prob_true_class_calib"
   ]
  },
  {
   "cell_type": "code",
   "execution_count": 26,
   "id": "6f003edc-3924-4114-81c6-f3b21799abf8",
   "metadata": {},
   "outputs": [
    {
     "data": {
      "text/plain": [
       "(array([0.00826297, 0.00889152, 0.04557854, 0.937267  ], dtype=float32),\n",
       " 3,\n",
       " 0.937267,\n",
       " 0.062732995)"
      ]
     },
     "execution_count": 26,
     "metadata": {},
     "output_type": "execute_result"
    }
   ],
   "source": [
    "y_probs_calib[0], y_calib[0], prob_true_class_calib[0], scores_calib[0] # all good"
   ]
  },
  {
   "cell_type": "code",
   "execution_count": 27,
   "id": "9581ac22-7e62-4037-8ae1-70c9b1297ef9",
   "metadata": {},
   "outputs": [
    {
     "data": {
      "text/plain": [
       "0.9639752"
      ]
     },
     "execution_count": 27,
     "metadata": {},
     "output_type": "execute_result"
    }
   ],
   "source": [
    "# Setting the alpha so that we get 95% prediction sets\n",
    "alpha = 0.05\n",
    "# define quantile\n",
    "q_level = np.ceil((n+1)*(1-alpha))/n\n",
    "qhat_calib = np.quantile(scores_calib, q_level, method='higher')\n",
    "qhat_calib"
   ]
  },
  {
   "cell_type": "code",
   "execution_count": 28,
   "id": "8d072c77-456d-4fb9-bc96-8e49caff494e",
   "metadata": {},
   "outputs": [
    {
     "data": {
      "text/plain": [
       "array([False, False,  True,  True])"
      ]
     },
     "execution_count": 28,
     "metadata": {},
     "output_type": "execute_result"
    }
   ],
   "source": [
    "prediction_sets_calib = (1 - y_probs_calib <= qhat_calib)\n",
    "prediction_sets_calib[0]"
   ]
  },
  {
   "cell_type": "code",
   "execution_count": 29,
   "id": "60c3153a-2757-4257-b268-6602ee9c0175",
   "metadata": {},
   "outputs": [
    {
     "name": "stdout",
     "output_type": "stream",
     "text": [
      "['drus.', 'norm.']\n",
      "['chor.', 'drus.', 'norm.']\n",
      "['norm.']\n"
     ]
    }
   ],
   "source": [
    "for i in range(3):\n",
    "    pred_set = prediction_sets_calib[i]\n",
    "    print([classes[c] for c in range(len(classes)) if pred_set[c]])"
   ]
  },
  {
   "cell_type": "markdown",
   "id": "be5ce7f0-1596-48f6-b1e5-bf5c8e19016d",
   "metadata": {},
   "source": [
    "Let us see coverage:"
   ]
  },
  {
   "cell_type": "code",
   "execution_count": 30,
   "id": "18b01e5d-b07d-43d6-98a7-c931367d6f98",
   "metadata": {},
   "outputs": [
    {
     "name": "stdout",
     "output_type": "stream",
     "text": [
      "Coverage @ >0.05 = 95.40%\n"
     ]
    }
   ],
   "source": [
    "# https://stackoverflow.com/a/23435843\n",
    "is_true_class_present = prediction_sets_calib[np.arange(len(prediction_sets_calib)), y_calib]\n",
    "coverage_calib = is_true_class_present.sum()/len(is_true_class_present)\n",
    "print('Coverage @ >{:.2f} = {:.2f}%'.format(alpha, 100*coverage_calib))"
   ]
  },
  {
   "cell_type": "markdown",
   "id": "fbc5b7d0-6b95-4776-b02f-4f90f69b9def",
   "metadata": {},
   "source": [
    "This was our guarantee for the calibration set, which is fulfilled by construction. Let us now see if it translates to the test set:"
   ]
  },
  {
   "cell_type": "code",
   "execution_count": 31,
   "id": "4590df09-b40f-4490-a6d4-97c942639301",
   "metadata": {},
   "outputs": [],
   "source": [
    "# Size of calibration data\n",
    "n = len(y_test)\n",
    "# We only need the probability for the true class\n",
    "prob_true_class_test = y_probs_test[np.arange(n),y_test]\n",
    "# Turn into uncertainty score (larger means more uncertain)\n",
    "scores_test = 1 - prob_true_class_test"
   ]
  },
  {
   "cell_type": "code",
   "execution_count": 32,
   "id": "b4f38566-a9ae-4b01-b5ad-a59e9169377c",
   "metadata": {},
   "outputs": [
    {
     "data": {
      "text/plain": [
       "0.95382625"
      ]
     },
     "execution_count": 32,
     "metadata": {},
     "output_type": "execute_result"
    }
   ],
   "source": [
    "# Setting the alpha so that we get 95% prediction sets\n",
    "alpha = 0.05\n",
    "# define quantile\n",
    "q_level = np.ceil((n+1)*(1-alpha))/n\n",
    "qhat_test = np.quantile(scores_test, q_level, method='higher')\n",
    "qhat_test"
   ]
  },
  {
   "cell_type": "code",
   "execution_count": 33,
   "id": "ac6ce352-99fa-4ab3-b1b7-f42d487c429f",
   "metadata": {},
   "outputs": [
    {
     "data": {
      "text/plain": [
       "array([False,  True, False,  True])"
      ]
     },
     "execution_count": 33,
     "metadata": {},
     "output_type": "execute_result"
    }
   ],
   "source": [
    "prediction_sets_test = (1 - y_probs_test <= qhat_test)\n",
    "prediction_sets_test[0]"
   ]
  },
  {
   "cell_type": "code",
   "execution_count": 34,
   "id": "24ce1641-b1b7-4d20-9747-9c4c9e4316d6",
   "metadata": {},
   "outputs": [
    {
     "name": "stdout",
     "output_type": "stream",
     "text": [
      "Coverage @ >0.05 = 95.40%\n"
     ]
    }
   ],
   "source": [
    "# https://stackoverflow.com/a/23435843\n",
    "is_true_class_present = prediction_sets_test[np.arange(len(prediction_sets_test)), y_test]\n",
    "coverage_test = is_true_class_present.sum()/len(is_true_class_present)\n",
    "print('Coverage @ >{:.2f} = {:.2f}%'.format(alpha, 100*coverage_test))"
   ]
  },
  {
   "cell_type": "markdown",
   "id": "d6e513ee-88ad-464c-ba0c-392cbd2f9419",
   "metadata": {},
   "source": [
    "Great!!"
   ]
  },
  {
   "cell_type": "markdown",
   "id": "049ac0a4-a431-43cf-aaa7-9e6f43902b8d",
   "metadata": {},
   "source": [
    "## Real world scenario - so that you don't get too thrilled about Conformal Prediction yet:\n",
    "In real life, you would not have a perfectly i.i.d. calibration/test pair, like the one we created by splitting the original test set in two halves. What I would have done would have been to use the original validation set we used for early stopping as calibration set, but it turns out this is not representative of the test set, see:"
   ]
  },
  {
   "cell_type": "code",
   "execution_count": 35,
   "id": "389796cd-28cc-47b7-9893-7080cdbf84c2",
   "metadata": {},
   "outputs": [],
   "source": [
    "y_pred_val, y_probs_val, y_val = run_one_epoch(val_loader, model, criterion)\n",
    "y_pred_test, y_probs_test, y_test = run_one_epoch(test_loader, model, criterion)"
   ]
  },
  {
   "cell_type": "code",
   "execution_count": 36,
   "id": "5b6d3a9a-b935-4c10-bdec-d9cf6d43ef2f",
   "metadata": {},
   "outputs": [
    {
     "name": "stdout",
     "output_type": "stream",
     "text": [
      "Validation Set Accuracy: 88.52%\n",
      "       chor.  diab.  drus.  norm.\n",
      "chor.   3545     61     56     59\n",
      "diab.     85    944     14     92\n",
      "drus.    207     34    236    385\n",
      "norm.     50    109     92   4863\n"
     ]
    }
   ],
   "source": [
    "print(\"Validation Set Accuracy: {:.2f}%\".format(100*(y_pred_val == y_val).mean()))\n",
    "# Create the confusion matrix\n",
    "cm = confusion_matrix(y_val, y_pred_val)\n",
    "print(pd.DataFrame(cm, index=classes, columns=classes))"
   ]
  },
  {
   "cell_type": "code",
   "execution_count": 37,
   "id": "855c2a2a-e1d9-4ca6-b5b4-5538f0bd8e24",
   "metadata": {},
   "outputs": [
    {
     "name": "stdout",
     "output_type": "stream",
     "text": [
      "Test Set Accuracy: 69.30%\n",
      "       chor.  diab.  drus.  norm.\n",
      "chor.    236     13      0      1\n",
      "diab.     38    200      2     10\n",
      "drus.    122      9     28     91\n",
      "norm.      6     11      4    229\n"
     ]
    }
   ],
   "source": [
    "print(\"Test Set Accuracy: {:.2f}%\".format(100*(y_pred_test == y_test).mean()))\n",
    "# Create the confusion matrix\n",
    "cm = confusion_matrix(y_test, y_pred_test)\n",
    "print(pd.DataFrame(cm, index=classes, columns=classes))"
   ]
  },
  {
   "cell_type": "markdown",
   "id": "e3705542-c8d0-4188-bdcb-9935b3efe56c",
   "metadata": {},
   "source": [
    "(Note that on the [medmnist benchmark](https://medmnist.com/) they have an accuracy of `acc=76.3` on this dataset, so this is not too off)"
   ]
  },
  {
   "cell_type": "markdown",
   "id": "df5fdd71-d13c-450b-ba04-f1523d1ba1f2",
   "metadata": {},
   "source": [
    "So the validation set is actually quite easier to predict. If we now find our threshold here, we will not get the guaranteed coverage we would be expecting:"
   ]
  },
  {
   "cell_type": "code",
   "execution_count": 38,
   "id": "9bad817f-70d6-4be8-99d4-4bb1d726b8f4",
   "metadata": {},
   "outputs": [],
   "source": [
    "# Size of calibration data\n",
    "n = len(y_val)\n",
    "# We only need the probability for the true class\n",
    "prob_true_class_val = y_probs_val[np.arange(n),y_val]\n",
    "# Turn into uncertainty score (larger means more uncertain)\n",
    "scores_val = 1 - prob_true_class_val"
   ]
  },
  {
   "cell_type": "code",
   "execution_count": 39,
   "id": "a2165b8a-126d-4b21-8aeb-9079a1901418",
   "metadata": {},
   "outputs": [
    {
     "data": {
      "text/plain": [
       "0.8335277"
      ]
     },
     "execution_count": 39,
     "metadata": {},
     "output_type": "execute_result"
    }
   ],
   "source": [
    "# Setting the alpha so that we get 95% prediction sets\n",
    "alpha = 0.05\n",
    "# define quantile\n",
    "q_level = np.ceil((n+1)*(1-alpha))/n\n",
    "qhat_val = np.quantile(scores_val, q_level, method='higher')\n",
    "qhat_val"
   ]
  },
  {
   "cell_type": "code",
   "execution_count": 40,
   "id": "b3dbeca6-b2ed-478a-a3a0-a079d5424923",
   "metadata": {},
   "outputs": [
    {
     "data": {
      "text/plain": [
       "array([False, False, False,  True])"
      ]
     },
     "execution_count": 40,
     "metadata": {},
     "output_type": "execute_result"
    }
   ],
   "source": [
    "prediction_sets_val = (1 - y_probs_val <= qhat_val)\n",
    "prediction_sets_val[0]"
   ]
  },
  {
   "cell_type": "markdown",
   "id": "48998ea7-2414-40a0-b7cb-78a639e29135",
   "metadata": {},
   "source": [
    "So in both datasets we have a guaranteed coverage *when we use them to evaluate themselves*."
   ]
  },
  {
   "cell_type": "code",
   "execution_count": 41,
   "id": "10d92df7-fdcb-4e0b-9d3a-b9cfc90e42d3",
   "metadata": {},
   "outputs": [
    {
     "name": "stdout",
     "output_type": "stream",
     "text": [
      "Validation Set Coverage @ >0.05 = 95.02%\n",
      "Test       Set Coverage @ >0.05 = 95.40%\n"
     ]
    }
   ],
   "source": [
    "# https://stackoverflow.com/a/23435843\n",
    "is_true_class_present = prediction_sets_val[np.arange(len(prediction_sets_val)), y_val]\n",
    "coverage_val = is_true_class_present.sum()/len(is_true_class_present)\n",
    "\n",
    "print('Validation Set Coverage @ >{:.2f} = {:.2f}%'.format(alpha, 100*coverage_val))\n",
    "print('Test       Set Coverage @ >{:.2f} = {:.2f}%'.format(alpha, 100*coverage_test))"
   ]
  },
  {
   "cell_type": "markdown",
   "id": "79a518d9-f8c2-49e8-b2d1-af4f895c6653",
   "metadata": {},
   "source": [
    "But in reality we would have take `qhat_val` and used it on the test set like this:"
   ]
  },
  {
   "cell_type": "code",
   "execution_count": 42,
   "id": "a0d1b00f-593e-474a-966f-497e8dc5a474",
   "metadata": {},
   "outputs": [],
   "source": [
    "prediction_sets_test = (1 - y_probs_test <= qhat_val)"
   ]
  },
  {
   "cell_type": "code",
   "execution_count": 43,
   "id": "92edbcd0-0b1b-4597-8ffb-c7a19ea29707",
   "metadata": {},
   "outputs": [
    {
     "name": "stdout",
     "output_type": "stream",
     "text": [
      "Test       Set Coverage @ >0.05 = 83.00%\n"
     ]
    }
   ],
   "source": [
    "# https://stackoverflow.com/a/23435843\n",
    "is_true_class_present = prediction_sets_test[np.arange(len(prediction_sets_test)), y_test]\n",
    "coverage_test = is_true_class_present.sum()/len(is_true_class_present)\n",
    "\n",
    "print('Test       Set Coverage @ >{:.2f} = {:.2f}%'.format(alpha, 100*coverage_test))"
   ]
  },
  {
   "cell_type": "markdown",
   "id": "b87eeea8-1112-444e-ae69-2e592a70041e",
   "metadata": {},
   "source": [
    "Ta-daaaaa. This is an example of what happens if we violate the exchangeability assumption in Conformal Prediction."
   ]
  }
 ],
 "metadata": {
  "kernelspec": {
   "display_name": "nnunet",
   "language": "python",
   "name": "nnunet"
  },
  "language_info": {
   "codemirror_mode": {
    "name": "ipython",
    "version": 3
   },
   "file_extension": ".py",
   "mimetype": "text/x-python",
   "name": "python",
   "nbconvert_exporter": "python",
   "pygments_lexer": "ipython3",
   "version": "3.10.11"
  }
 },
 "nbformat": 4,
 "nbformat_minor": 5
}
